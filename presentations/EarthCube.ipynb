{
 "metadata": {
  "language_info": {
   "codemirror_mode": {
    "name": "ipython",
    "version": 3
   },
   "file_extension": ".py",
   "mimetype": "text/x-python",
   "name": "python",
   "nbconvert_exporter": "python",
   "pygments_lexer": "ipython3",
   "version": "3.7.8-final"
  },
  "orig_nbformat": 2,
  "kernelspec": {
   "name": "python3",
   "display_name": "Python 3.7.8 64-bit ('copro': conda)",
   "metadata": {
    "interpreter": {
     "hash": "c6a75997c0ec9a0d6c8c89ca8c81583f36ea4c6190004770bf5482bf180f4ea6"
    }
   }
  }
 },
 "nbformat": 4,
 "nbformat_minor": 2,
 "cells": [
  {
   "source": [
    "# CoPro: a data-driven modelling framework for conflict risk projections"
   ],
   "cell_type": "markdown",
   "metadata": {}
  },
  {
   "source": [
    "## Authors\n",
    "\n",
    "- Jannis M. Hoch (Utrecht University, j.m.hoch@uu.nl)\n",
    "- Sophie de Bruin (PBL Netherlands Environmental Assessment Agency)\n",
    "- Niko Wanders (Utrecht University)"
   ],
   "cell_type": "markdown",
   "metadata": {}
  },
  {
   "source": [
    "# Setup"
   ],
   "cell_type": "markdown",
   "metadata": {}
  },
  {
   "source": [
    "## Library import"
   ],
   "cell_type": "markdown",
   "metadata": {}
  },
  {
   "cell_type": "code",
   "execution_count": 1,
   "metadata": {},
   "outputs": [
    {
     "output_type": "error",
     "ename": "SyntaxError",
     "evalue": "invalid syntax (utils.py, line 228)",
     "traceback": [
      "Traceback \u001b[1;36m(most recent call last)\u001b[0m:\n",
      "  File \u001b[0;32m\"C:\\Users\\hoch0001\\AppData\\Local\\Continuum\\anaconda3\\envs\\copro\\lib\\site-packages\\IPython\\core\\interactiveshell.py\"\u001b[0m, line \u001b[0;32m3331\u001b[0m, in \u001b[0;35mrun_code\u001b[0m\n    exec(code_obj, self.user_global_ns, self.user_ns)\n",
      "  File \u001b[0;32m\"<ipython-input-1-2fdfcba6a8ba>\"\u001b[0m, line \u001b[0;32m1\u001b[0m, in \u001b[0;35m<module>\u001b[0m\n    import copro\n",
      "  File \u001b[0;32m\"c:\\users\\hoch0001\\documents\\_code\\copro\\copro\\__init__.py\"\u001b[0m, line \u001b[0;32m3\u001b[0m, in \u001b[0;35m<module>\u001b[0m\n    from . import selection\n",
      "\u001b[1;36m  File \u001b[1;32m\"c:\\users\\hoch0001\\documents\\_code\\copro\\copro\\selection.py\"\u001b[1;36m, line \u001b[1;32m5\u001b[1;36m, in \u001b[1;35m<module>\u001b[1;36m\u001b[0m\n\u001b[1;33m    from copro import utils\u001b[0m\n",
      "\u001b[1;36m  File \u001b[1;32m\"c:\\users\\hoch0001\\documents\\_code\\copro\\copro\\utils.py\"\u001b[1;36m, line \u001b[1;32m228\u001b[0m\n\u001b[1;33m    def click.echo_model_info():\u001b[0m\n\u001b[1;37m             ^\u001b[0m\n\u001b[1;31mSyntaxError\u001b[0m\u001b[1;31m:\u001b[0m invalid syntax\n"
     ]
    }
   ],
   "source": [
    "import copro\n",
    "\n",
    "%matplotlib inline\n",
    "\n",
    "import matplotlib.pyplot as plt\n",
    "import numpy as np\n",
    "import seaborn as sns\n",
    "import os, sys\n",
    "import warnings\n",
    "warnings.simplefilter(\"ignore\")"
   ]
  },
  {
   "cell_type": "code",
   "execution_count": null,
   "metadata": {},
   "outputs": [],
   "source": [
    "copro.utils.show_versions()"
   ]
  },
  {
   "source": [
    "# Parameter definitions\n",
    "\n",
    "All parameters required to run CoPro have to be specified in file which can be parsed by ConfigParser."
   ],
   "cell_type": "markdown",
   "metadata": {}
  },
  {
   "cell_type": "code",
   "execution_count": null,
   "metadata": {},
   "outputs": [],
   "source": [
    "SETTINGS_FILE = r'../example/example_settings.cfg'"
   ]
  },
  {
   "cell_type": "code",
   "execution_count": null,
   "metadata": {},
   "outputs": [],
   "source": [
    "print(open(SETTINGS_FILE, 'r').read())"
   ]
  },
  {
   "source": [
    "The only parameter than can be set here is the verbosity of the model. If it is set, it supersedes the setting in the cfg-file."
   ],
   "cell_type": "markdown",
   "metadata": {}
  },
  {
   "cell_type": "code",
   "execution_count": null,
   "metadata": {},
   "outputs": [],
   "source": [
    "VERBOSE = False"
   ]
  },
  {
   "cell_type": "code",
   "execution_count": null,
   "metadata": {},
   "outputs": [],
   "source": [
    "main_dict, root_dir = copro.utils.initiate_setup(SETTINGS_FILE, verbose=VERBOSE)"
   ]
  },
  {
   "source": [
    "In `main_dict`, the output directories as well as parsed config-objects are stored and can be retrieved throughout the simulation."
   ],
   "cell_type": "markdown",
   "metadata": {}
  },
  {
   "source": [
    "# Data import"
   ],
   "cell_type": "markdown",
   "metadata": {}
  },
  {
   "cell_type": "code",
   "execution_count": null,
   "metadata": {},
   "outputs": [],
   "source": [
    "conflict_gdf, extent_gdf, selected_polygons_gdf, global_df = copro.selection.select(main_dict['_REF'][0], \n",
    "                                                                                    main_dict['_REF'][1], \n",
    "                                                                                    root_dir)"
   ]
  },
  {
   "cell_type": "code",
   "execution_count": null,
   "metadata": {},
   "outputs": [],
   "source": [
    "fig, ax= plt.subplots(1, 1, figsize=(20,10))\n",
    "conflict_gdf.plot(ax=ax, c='r', column='best', cmap='magma', \n",
    "                  vmin=int(main_dict['_REF'][0].get('conflict', 'min_nr_casualties')), vmax=conflict_gdf.best.mean(), \n",
    "                  legend=True, \n",
    "                  legend_kwds={'label': \"# casualties\", 'orientation': \"vertical\", 'pad': 0.05})\n",
    "selected_polygons_gdf.boundary.plot(ax=ax);"
   ]
  }
 ]
}