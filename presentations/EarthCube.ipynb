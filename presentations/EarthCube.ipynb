{
 "metadata": {
  "language_info": {
   "codemirror_mode": {
    "name": "ipython",
    "version": 3
   },
   "file_extension": ".py",
   "mimetype": "text/x-python",
   "name": "python",
   "nbconvert_exporter": "python",
   "pygments_lexer": "ipython3",
   "version": 3
  },
  "orig_nbformat": 2
 },
 "nbformat": 4,
 "nbformat_minor": 2,
 "cells": [
  {
   "cell_type": "code",
   "execution_count": null,
   "metadata": {},
   "outputs": [],
   "source": [
    "import copro\n",
    "\n",
    "%matplotlib inline\n",
    "\n",
    "import matplotlib.pyplot as plt\n",
    "import numpy as np\n",
    "import seaborn as sns\n",
    "import os, sys\n",
    "import warnings\n",
    "warnings.simplefilter(\"ignore\")"
   ]
  },
  {
   "cell_type": "code",
   "execution_count": null,
   "metadata": {},
   "outputs": [],
   "source": [
    "copro.utils.show_versions()"
   ]
  },
  {
   "cell_type": "code",
   "execution_count": null,
   "metadata": {},
   "outputs": [],
   "source": [
    "settings_file = r'../example/example_settings.cfg'"
   ]
  },
  {
   "cell_type": "code",
   "execution_count": null,
   "metadata": {},
   "outputs": [],
   "source": [
    "main_dict, root_dir = copro.utils.initiate_setup(settings_file, verbose=False)"
   ]
  },
  {
   "cell_type": "code",
   "execution_count": null,
   "metadata": {},
   "outputs": [],
   "source": [
    "conflict_gdf, extent_gdf, selected_polygons_gdf, global_df = copro.selection.select(main_dict['_REF'][0], \n",
    "                                                                                    main_dict['_REF'][1], \n",
    "                                                                                    root_dir)"
   ]
  },
  {
   "cell_type": "code",
   "execution_count": null,
   "metadata": {},
   "outputs": [],
   "source": [
    "fig, ax= plt.subplots(1, 1, figsize=(20,10))\n",
    "conflict_gdf.plot(ax=ax, c='r', column='best', cmap='magma', \n",
    "                  vmin=int(main_dict['_REF'][0].get('conflict', 'min_nr_casualties')), vmax=conflict_gdf.best.mean(), \n",
    "                  legend=True, \n",
    "                  legend_kwds={'label': \"# casualties\", 'orientation': \"vertical\", 'pad': 0.05})\n",
    "selected_polygons_gdf.boundary.plot(ax=ax);"
   ]
  }
 ]
}