{
 "metadata": {
  "language_info": {
   "codemirror_mode": {
    "name": "ipython",
    "version": 3
   },
   "file_extension": ".py",
   "mimetype": "text/x-python",
   "name": "python",
   "nbconvert_exporter": "python",
   "pygments_lexer": "ipython3",
   "version": "3.7.8-final"
  },
  "orig_nbformat": 2,
  "kernelspec": {
   "name": "python3",
   "display_name": "Python 3.7.8 64-bit ('copro': conda)",
   "metadata": {
    "interpreter": {
     "hash": "c6a75997c0ec9a0d6c8c89ca8c81583f36ea4c6190004770bf5482bf180f4ea6"
    }
   }
  }
 },
 "nbformat": 4,
 "nbformat_minor": 2,
 "cells": [
  {
   "source": [
    "# CoPro: a data-driven modelling framework for conflict risk projections"
   ],
   "cell_type": "markdown",
   "metadata": {}
  },
  {
   "source": [
    "## Authors\n",
    "\n",
    "- Jannis M. Hoch (Utrecht University, j.m.hoch@uu.nl)\n",
    "- Sophie de Bruin (PBL Netherlands Environmental Assessment Agency)\n",
    "- Niko Wanders (Utrecht University)\n",
    "\n",
    "## Purpose\n",
    "\n",
    "## Technical contributions\n",
    "\n",
    "## Methodology\n",
    "\n",
    "## Results\n",
    "\n",
    "## Funding\n",
    "\n",
    "## Keywords\n",
    "\n",
    "## Citation\n",
    "\n",
    "## Suggested next steps\n",
    "\n",
    "## Acknowledgments"
   ],
   "cell_type": "markdown",
   "metadata": {}
  },
  {
   "source": [
    "# Setup"
   ],
   "cell_type": "markdown",
   "metadata": {}
  },
  {
   "source": [
    "## Library import"
   ],
   "cell_type": "markdown",
   "metadata": {}
  },
  {
   "cell_type": "code",
   "execution_count": null,
   "metadata": {},
   "outputs": [],
   "source": [
    "import copro\n",
    "\n",
    "%matplotlib inline\n",
    "\n",
    "import matplotlib.pyplot as plt\n",
    "import numpy as np\n",
    "import seaborn as sns\n",
    "import os, sys\n",
    "import warnings\n",
    "warnings.simplefilter(\"ignore\")"
   ]
  },
  {
   "cell_type": "code",
   "execution_count": null,
   "metadata": {},
   "outputs": [],
   "source": [
    "copro.utils.show_versions()"
   ]
  },
  {
   "source": [
    "# Parameter definitions\n",
    "\n",
    "All parameters required to run CoPro have to be specified in file which can be parsed by ConfigParser."
   ],
   "cell_type": "markdown",
   "metadata": {}
  },
  {
   "cell_type": "code",
   "execution_count": null,
   "metadata": {},
   "outputs": [],
   "source": [
    "SETTINGS_FILE = r'../example/example_settings.cfg'"
   ]
  },
  {
   "cell_type": "code",
   "execution_count": null,
   "metadata": {},
   "outputs": [],
   "source": [
    "print(open(SETTINGS_FILE, 'r').read())"
   ]
  },
  {
   "source": [
    "The only parameter than can be set here is the verbosity of the model. If it is set, it supersedes the setting in the cfg-file."
   ],
   "cell_type": "markdown",
   "metadata": {}
  },
  {
   "cell_type": "code",
   "execution_count": null,
   "metadata": {},
   "outputs": [],
   "source": [
    "VERBOSE = False"
   ]
  },
  {
   "cell_type": "code",
   "execution_count": null,
   "metadata": {},
   "outputs": [],
   "source": [
    "main_dict, root_dir = copro.utils.initiate_setup(SETTINGS_FILE, verbose=VERBOSE)"
   ]
  },
  {
   "source": [
    "In `main_dict`, the output directories as well as parsed config-objects are stored and can be retrieved throughout the simulation."
   ],
   "cell_type": "markdown",
   "metadata": {}
  },
  {
   "source": [
    "# Data import"
   ],
   "cell_type": "markdown",
   "metadata": {}
  },
  {
   "cell_type": "code",
   "execution_count": null,
   "metadata": {},
   "outputs": [],
   "source": [
    "conflict_gdf, extent_gdf, selected_polygons_gdf, global_df = copro.selection.select(main_dict['_REF'][0], \n",
    "                                                                                    main_dict['_REF'][1], \n",
    "                                                                                    root_dir)"
   ]
  },
  {
   "cell_type": "code",
   "execution_count": null,
   "metadata": {},
   "outputs": [],
   "source": [
    "fig, ax= plt.subplots(1, 1, figsize=(20,10))\n",
    "conflict_gdf.plot(ax=ax, c='r', column='best', cmap='magma', \n",
    "                  vmin=int(main_dict['_REF'][0].get('conflict', 'min_nr_casualties')), vmax=conflict_gdf.best.mean(), \n",
    "                  legend=True, \n",
    "                  legend_kwds={'label': \"# casualties\", 'orientation': \"vertical\", 'pad': 0.05})\n",
    "selected_polygons_gdf.boundary.plot(ax=ax);"
   ]
  }
 ]
}