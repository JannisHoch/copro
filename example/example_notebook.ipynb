{
 "cells": [
  {
   "cell_type": "markdown",
   "metadata": {},
   "source": [
    "# This notebook\n",
    "\n",
    "This notebook contains first bits and pieces of the yet to be developed model correlating climate/environmental factors with conflict occurrence."
   ]
  },
  {
   "cell_type": "markdown",
   "metadata": {},
   "source": [
    "## Import libraries and file with settings"
   ]
  },
  {
   "cell_type": "code",
   "execution_count": 1,
   "metadata": {},
   "outputs": [],
   "source": [
    "import conflict_model\n",
    "\n",
    "import pandas as pd\n",
    "import geopandas as gpd\n",
    "from configparser import RawConfigParser\n",
    "import matplotlib.pyplot as plt\n",
    "import numpy as np\n",
    "import datetime\n",
    "import rasterstats as rstats\n",
    "import xarray as xr\n",
    "import rasterio as rio\n",
    "import os, sys"
   ]
  },
  {
   "cell_type": "code",
   "execution_count": 2,
   "metadata": {},
   "outputs": [
    {
     "name": "stdout",
     "output_type": "stream",
     "text": [
      "Python version: 3.7.7 (default, Apr 15 2020, 05:09:04) [MSC v.1916 64 bit (AMD64)]\n",
      "conflict_model version: 0.0.1-beta\n",
      "geopandas version: 0.7.0\n",
      "xarray version: 0.15.1\n",
      "rasterio version: 1.1.0\n",
      "pandas version: 1.0.3\n",
      "numpy version: 1.18.1\n",
      "matplotlib version: 3.2.1\n",
      "rasterstats version: 0.14.0\n"
     ]
    }
   ],
   "source": [
    "conflict_model.utils.show_versions()"
   ]
  },
  {
   "cell_type": "markdown",
   "metadata": {},
   "source": [
    "Geopandas versions lower than 0.7.0 do not yet have the clip function. The notebook will thus not work with these versions."
   ]
  },
  {
   "cell_type": "code",
   "execution_count": 3,
   "metadata": {},
   "outputs": [],
   "source": [
    "if gpd.__version__ < '0.7.0':\n",
    "    sys.exit('please upgrade geopandas to version 0.7.0, your current version is {}'.format(gpd.__version__))"
   ]
  },
  {
   "cell_type": "markdown",
   "metadata": {},
   "source": [
    "In this file all the settings for the analysis are defined. By 'parsing' it, all values are read for different sections. This is a simple way to make the code independent of the input data and settings."
   ]
  },
  {
   "cell_type": "code",
   "execution_count": 4,
   "metadata": {},
   "outputs": [],
   "source": [
    "settings_file = r'../data/run_setting.cfg'"
   ]
  },
  {
   "cell_type": "code",
   "execution_count": 5,
   "metadata": {},
   "outputs": [
    {
     "data": {
      "text/plain": [
       "['../data/run_setting.cfg']"
      ]
     },
     "execution_count": 5,
     "metadata": {},
     "output_type": "execute_result"
    }
   ],
   "source": [
    "config = RawConfigParser(allow_no_value=True)\n",
    "config.read(settings_file)"
   ]
  },
  {
   "cell_type": "code",
   "execution_count": 6,
   "metadata": {},
   "outputs": [
    {
     "name": "stdout",
     "output_type": "stream",
     "text": [
      "for the record, saving output to folder C:\\Users\\hoch0001\\Documents\\_code\\conflict_model\\data\\OUT\r\n",
      "\n"
     ]
    }
   ],
   "source": [
    "#out_dir\n",
    "out_dir = config.get('general','output_dir')\n",
    "if not os.path.isdir(out_dir):\n",
    "        os.makedirs(out_dir)\n",
    "print('for the record, saving output to folder {}'.format(out_dir) + os.linesep)"
   ]
  },
  {
   "cell_type": "markdown",
   "metadata": {},
   "source": [
    "# Applying functions"
   ]
  },
  {
   "cell_type": "code",
   "execution_count": 7,
   "metadata": {},
   "outputs": [
    {
     "name": "stdout",
     "output_type": "stream",
     "text": [
      "reading csv file to dataframe C:\\Users\\hoch0001\\Documents\\_code\\conflict_model\\data\\UCDP/ged191.csv\n",
      "...DONE\n",
      "\n",
      "translating to geopandas dataframe\n",
      "...DONE\n",
      "\n"
     ]
    }
   ],
   "source": [
    "gdf = conflict_model.utils.get_geodataframe(config)"
   ]
  },
  {
   "cell_type": "code",
   "execution_count": 8,
   "metadata": {},
   "outputs": [
    {
     "name": "stdout",
     "output_type": "stream",
     "text": [
      "filtering on conflict properties...\n",
      "...filtering key best with lower value 5\n",
      "...filtering key type_of_violence with value 1\n",
      "...passing key country as it is empty\n",
      "focussing on period between 2000 and 2005\n",
      "\n",
      "reading extent and spatial aggregation level from file C:\\Users\\hoch0001\\Documents\\_code\\conflict_model\\data\\waterProvinces/waterProvinces_Africa.shp\n",
      "...DONE\n",
      "\n",
      "clipping datasets to extent\n",
      "...DONE\n",
      "\n",
      "clipping to climate zones['BWh', 'BSh']\n",
      "...DONE\n",
      "\n"
     ]
    }
   ],
   "source": [
    "conflict_gdf, extent_gdf = conflict_model.selection.select(gdf, config)"
   ]
  },
  {
   "cell_type": "markdown",
   "metadata": {},
   "source": [
    "# Analysis per year\n",
    "\n",
    "In a first step, we want to know in which countries there was conflict or not. TO that end, we first accumulate the number of fatalities per country and use this as proxy whether there was a conlfict or not (guess there is a rather strong like...)."
   ]
  },
  {
   "cell_type": "code",
   "execution_count": 9,
   "metadata": {},
   "outputs": [
    {
     "data": {
      "text/plain": [
       "array([2000, 2001, 2002, 2003, 2004])"
      ]
     },
     "execution_count": 9,
     "metadata": {},
     "output_type": "execute_result"
    }
   ],
   "source": [
    "sim_years = np.arange(config.getint('settings', 'y_start'), config.getint('settings', 'y_end'), 1)\n",
    "sim_years"
   ]
  },
  {
   "cell_type": "code",
   "execution_count": 12,
   "metadata": {},
   "outputs": [],
   "source": [
    "def rasterstats_GDP_PPP(gdf, config, sim_year, out_dir, saving_plots=False, showing_plots=False):\n",
    "    \n",
    "    print('calculating zonal statistics per aggregation level...')\n",
    "\n",
    "    nc_fo = os.path.join(config.get('general', 'input_dir'), \n",
    "                         config.get('env_vars', 'GDP_PPP'))\n",
    "\n",
    "    nc_ds = xr.open_dataset(nc_fo)\n",
    "\n",
    "    nc_var = nc_ds['GDP_per_capita_PPP']\n",
    "\n",
    "    years = nc_ds['time'].values\n",
    "    years = years[years>=config.getint('settings', 'y_start')]\n",
    "    years = years[years<=config.getint('settings', 'y_end')]\n",
    "\n",
    "    affine = rio.open(nc_fo).transform\n",
    "\n",
    "    gdf['zonal_stats_min'] = np.nan\n",
    "    gdf['zonal_stats_max'] = np.nan\n",
    "    gdf['zonal_stats_mean'] = np.nan\n",
    "\n",
    "    nc_arr = nc_var.sel(time=sim_year)\n",
    "    nc_arr_vals = nc_arr.values\n",
    "    if nc_arr_vals.size == 0:\n",
    "        raise ValueError('the data was found for this year in the nc-file {}, check if all is correct'.format(nc_fo))\n",
    "\n",
    "    for i in range(len(gdf)):\n",
    "        prov = gdf.iloc[i]\n",
    "        zonal_stats = rstats.zonal_stats(prov.geometry, nc_arr_vals, affine=affine, stats=\"mean min max\")\n",
    "        gdf.loc[i, 'zonal_stats_min'] = zonal_stats[0]['min']\n",
    "        gdf.loc[i, 'zonal_stats_max'] = zonal_stats[0]['max']\n",
    "        gdf.loc[i, 'zonal_stats_mean'] = zonal_stats[0]['mean']\n",
    "        \n",
    "    print('...DONE' + os.linesep)\n",
    "\n",
    "    fig, axes = plt.subplots(1, 3 , figsize=(20, 10))\n",
    "\n",
    "    fig.suptitle(str(int(sim_year)), y=0.78)\n",
    "\n",
    "    gdf.plot(ax=axes[0],\n",
    "                column='zonal_stats_min',\n",
    "                vmin=2000,\n",
    "                vmax=15000,\n",
    "                legend=True,\n",
    "                legend_kwds={'label': \"min GDP_PPP\",\n",
    "                                'orientation': \"vertical\",\n",
    "                                'shrink': 0.5,\n",
    "                                'extend': 'both'})\n",
    "\n",
    "    gdf.plot(ax=axes[1],\n",
    "                column='zonal_stats_max',\n",
    "                vmin=2000,\n",
    "                vmax=15000,\n",
    "                legend=True,\n",
    "                legend_kwds={'label': \"max GDP_PPP\",\n",
    "                                'orientation': \"vertical\",\n",
    "                                'shrink': 0.5,\n",
    "                                'extend': 'both'})\n",
    "\n",
    "    gdf.plot(ax=axes[2],\n",
    "                column='zonal_stats_mean',\n",
    "                vmin=2000,\n",
    "                vmax=15000,\n",
    "                legend=True,\n",
    "                legend_kwds={'label': \"mean GDP_PPP\",\n",
    "                                'orientation': \"vertical\",\n",
    "                                'shrink': 0.5,\n",
    "                                'extend': 'both'})\n",
    "\n",
    "    plt.tight_layout()\n",
    "\n",
    "    plt_name = 'GDP_PPP_zonal_stats_' + str(int(sim_year)) + '.png'\n",
    "    plt_name = os.path.join(out_dir, plt_name)\n",
    "\n",
    "    if saving_plots:\n",
    "        plt.savefig(plt_name, dpi=300)\n",
    "\n",
    "    if not showing_plots:\n",
    "        plt.close()\n",
    "\n",
    "    return gdf"
   ]
  },
  {
   "cell_type": "code",
   "execution_count": 13,
   "metadata": {},
   "outputs": [
    {
     "name": "stdout",
     "output_type": "stream",
     "text": [
      "entering year 2000\n",
      "\n",
      "determining whether a conflict took place or not...\n",
      "...DONE\n",
      "\n",
      "calculating zonal statistics per aggregation level...\n"
     ]
    },
    {
     "name": "stderr",
     "output_type": "stream",
     "text": [
      "C:\\Users\\hoch0001\\AppData\\Local\\Continuum\\anaconda3\\envs\\conflict_model\\lib\\site-packages\\rasterstats\\io.py:301: UserWarning: Setting nodata to -999; specify nodata explicitly\n",
      "  warnings.warn(\"Setting nodata to -999; specify nodata explicitly\")\n"
     ]
    },
    {
     "name": "stdout",
     "output_type": "stream",
     "text": [
      "...DONE\n",
      "\n",
      "entering year 2001\n",
      "\n",
      "determining whether a conflict took place or not...\n",
      "...DONE\n",
      "\n",
      "calculating zonal statistics per aggregation level...\n"
     ]
    },
    {
     "name": "stderr",
     "output_type": "stream",
     "text": [
      "C:\\Users\\hoch0001\\AppData\\Local\\Continuum\\anaconda3\\envs\\conflict_model\\lib\\site-packages\\rasterstats\\io.py:301: UserWarning: Setting nodata to -999; specify nodata explicitly\n",
      "  warnings.warn(\"Setting nodata to -999; specify nodata explicitly\")\n"
     ]
    },
    {
     "name": "stdout",
     "output_type": "stream",
     "text": [
      "...DONE\n",
      "\n",
      "entering year 2002\n",
      "\n",
      "determining whether a conflict took place or not...\n",
      "...DONE\n",
      "\n",
      "calculating zonal statistics per aggregation level...\n"
     ]
    },
    {
     "name": "stderr",
     "output_type": "stream",
     "text": [
      "C:\\Users\\hoch0001\\AppData\\Local\\Continuum\\anaconda3\\envs\\conflict_model\\lib\\site-packages\\rasterstats\\io.py:301: UserWarning: Setting nodata to -999; specify nodata explicitly\n",
      "  warnings.warn(\"Setting nodata to -999; specify nodata explicitly\")\n"
     ]
    },
    {
     "name": "stdout",
     "output_type": "stream",
     "text": [
      "...DONE\n",
      "\n",
      "entering year 2003\n",
      "\n",
      "determining whether a conflict took place or not...\n",
      "...DONE\n",
      "\n",
      "calculating zonal statistics per aggregation level...\n"
     ]
    },
    {
     "name": "stderr",
     "output_type": "stream",
     "text": [
      "C:\\Users\\hoch0001\\AppData\\Local\\Continuum\\anaconda3\\envs\\conflict_model\\lib\\site-packages\\rasterstats\\io.py:301: UserWarning: Setting nodata to -999; specify nodata explicitly\n",
      "  warnings.warn(\"Setting nodata to -999; specify nodata explicitly\")\n"
     ]
    },
    {
     "name": "stdout",
     "output_type": "stream",
     "text": [
      "...DONE\n",
      "\n",
      "entering year 2004\n",
      "\n",
      "determining whether a conflict took place or not...\n",
      "...DONE\n",
      "\n",
      "calculating zonal statistics per aggregation level...\n"
     ]
    },
    {
     "name": "stderr",
     "output_type": "stream",
     "text": [
      "C:\\Users\\hoch0001\\AppData\\Local\\Continuum\\anaconda3\\envs\\conflict_model\\lib\\site-packages\\rasterstats\\io.py:301: UserWarning: Setting nodata to -999; specify nodata explicitly\n",
      "  warnings.warn(\"Setting nodata to -999; specify nodata explicitly\")\n"
     ]
    },
    {
     "name": "stdout",
     "output_type": "stream",
     "text": [
      "...DONE\r\n",
      "\n"
     ]
    }
   ],
   "source": [
    "for sim_year in np.arange(config.getint('settings', 'y_start'), config.getint('settings', 'y_end'), 1):\n",
    "\n",
    "    print('entering year {}'.format(sim_year) + os.linesep)\n",
    "    \n",
    "    boolean_conflict_gdf = conflict_model.analysis.conflict_in_year_bool(conflict_gdf, \n",
    "                                                                         extent_gdf, \n",
    "                                                                         config, \n",
    "                                                                         sim_year, \n",
    "                                                                         out_dir, \n",
    "                                                                         showing_plots=False, saving_plots=True)\n",
    "    \n",
    "    GDP_PPP_gdf = rasterstats_GDP_PPP(boolean_conflict_gdf,\n",
    "                                      config,\n",
    "                                      sim_year,\n",
    "                                      out_dir,\n",
    "                                      saving_plots=True)"
   ]
  },
  {
   "cell_type": "code",
   "execution_count": null,
   "metadata": {},
   "outputs": [],
   "source": []
  }
 ],
 "metadata": {
  "kernelspec": {
   "display_name": "Python 3",
   "language": "python",
   "name": "python3"
  },
  "language_info": {
   "codemirror_mode": {
    "name": "ipython",
    "version": 3
   },
   "file_extension": ".py",
   "mimetype": "text/x-python",
   "name": "python",
   "nbconvert_exporter": "python",
   "pygments_lexer": "ipython3",
   "version": "3.7.7"
  }
 },
 "nbformat": 4,
 "nbformat_minor": 4
}
