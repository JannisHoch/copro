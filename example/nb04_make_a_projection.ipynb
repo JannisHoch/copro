{
 "cells": [
  {
   "cell_type": "markdown",
   "metadata": {},
   "source": [
    "# Projecting conflict risk\n",
    "\n",
    "In this notebook, we will show how CoPro can use a previously fitted classifier to make projections of conflict risk."
   ]
  },
  {
   "cell_type": "markdown",
   "metadata": {},
   "source": [
    "## Preparations\n",
    "\n",
    "Start with loading the required packages."
   ]
  },
  {
   "cell_type": "code",
   "execution_count": 1,
   "metadata": {},
   "outputs": [],
   "source": [
    "from copro import utils, pipeline, evaluation, plots\n",
    "\n",
    "%matplotlib inline\n",
    "\n",
    "import matplotlib.pyplot as plt\n",
    "import numpy as np\n",
    "import pandas as pd\n",
    "import geopandas as gpd\n",
    "import seaborn as sbs\n",
    "import os, sys\n",
    "from sklearn import metrics\n",
    "import warnings\n",
    "warnings.simplefilter(\"ignore\")"
   ]
  },
  {
   "cell_type": "markdown",
   "metadata": {},
   "source": [
    "For better reproducibility, the version numbers of all key packages are provided."
   ]
  },
  {
   "cell_type": "code",
   "execution_count": 2,
   "metadata": {},
   "outputs": [
    {
     "name": "stdout",
     "output_type": "stream",
     "text": [
      "Python version: 3.7.8 | packaged by conda-forge | (default, Jul 31 2020, 01:53:57) [MSC v.1916 64 bit (AMD64)]\n",
      "copro version: 0.0.7b\n",
      "geopandas version: 0.8.0\n",
      "xarray version: 0.15.1\n",
      "rasterio version: 1.1.0\n",
      "pandas version: 1.0.3\n",
      "numpy version: 1.18.1\n",
      "scikit-learn version: 0.23.2\n",
      "matplotlib version: 3.2.1\n",
      "seaborn version: 0.11.0\n",
      "rasterstats version: 0.14.0\n"
     ]
    }
   ],
   "source": [
    "utils.show_versions()"
   ]
  },
  {
   "cell_type": "markdown",
   "metadata": {},
   "source": [
    "To be able to also run this notebooks, some of the previously saved data needs to be loaded."
   ]
  },
  {
   "cell_type": "code",
   "execution_count": 3,
   "metadata": {},
   "outputs": [],
   "source": [
    "conflict_gdf = gpd.read_file(os.path.join('temp_files', 'conflicts.shp'))\n",
    "selected_polygons_gdf = gpd.read_file(os.path.join('temp_files', 'polygons.shp'))"
   ]
  },
  {
   "cell_type": "code",
   "execution_count": 4,
   "metadata": {},
   "outputs": [],
   "source": [
    "global_arr = np.load(os.path.join('temp_files', 'global_df.npy'), allow_pickle=True)\n",
    "global_df = pd.DataFrame(data=global_arr, columns=['geometry', 'ID'])\n",
    "global_df.set_index(global_df.ID, inplace=True)\n",
    "global_df.drop(['ID'] , axis=1, inplace=True)"
   ]
  },
  {
   "cell_type": "markdown",
   "metadata": {},
   "source": [
    "### The configurations-file (cfg-file)"
   ]
  },
  {
   "cell_type": "markdown",
   "metadata": {},
   "source": [
    "In the cfg-file, all the settings for the analysis are defined. Note that the cfg-file can be stored anywhere, not per se in the same directory where the model data is stored (as in this example case). Make sure that the paths in the cfg-file are updated if you use relative paths and change the folder location of th cfg-file.\n",
    "\n",
    "Note that only a few settings of the cfg-file are needed for making projections. Most relevant is the path to the pickled classifier and the data to be used for the samples matrix (X). For convenience, though, the same file structure can be used and CoPro picks the settings needed."
   ]
  },
  {
   "cell_type": "code",
   "execution_count": 5,
   "metadata": {},
   "outputs": [],
   "source": [
    "settings_file = 'example_settings_proj.cfg'"
   ]
  },
  {
   "cell_type": "markdown",
   "metadata": {},
   "source": [
    "Based on this cfg-file, the set-up of the run can be initialized. Here, the cfg-file is parsed (i.e. read) and all settings and paths become known to the model. Also, the output folder is created (if it does not exist yet) and the cfg-file is copied to the output folder for improved reusability."
   ]
  },
  {
   "cell_type": "code",
   "execution_count": 6,
   "metadata": {},
   "outputs": [
    {
     "name": "stdout",
     "output_type": "stream",
     "text": [
      "\n",
      "#### CoPro version 0.0.7b ####\n",
      "#### For information about the model, please visit https://copro.readthedocs.io/ ####\n",
      "#### Copyright (2020-2020): Jannis M. Hoch, Sophie de Bruin, Niko Wanders ####\n",
      "#### Contact via: j.m.hoch@uu.nl ####\n",
      "#### The model can be used and shared under the MIT license ####\n",
      "\n",
      "INFO: verbose mode on: True\n",
      "INFO: saving output to folder C:\\Users\\hoch0001\\Documents\\_code\\copro\\example\\./OUT_PROJ\n",
      "DEBUG: remove files in folder C:\\Users\\hoch0001\\Documents\\_code\\copro\\example\\OUT_PROJ\n"
     ]
    }
   ],
   "source": [
    "config, out_dir, root_dir = utils.initiate_setup(settings_file)"
   ]
  },
  {
   "cell_type": "markdown",
   "metadata": {},
   "source": [
    "## Read data from files"
   ]
  },
  {
   "cell_type": "markdown",
   "metadata": {},
   "source": [
    "Similar as in the second notebook, we need to collect the variable values for the projection time period. With this data, the samples matrix can be filled. The approach is identical to the reference runs as outlined in a previous notebook. Similarly, the resulting samples matrix is stored to a npy-file. This time, however, we do not have target values (Y) and thus this step is skipped.\n",
    "\n",
    "Note that for this example notebook, the same input data was used as for the reference data."
   ]
  },
  {
   "cell_type": "code",
   "execution_count": 7,
   "metadata": {},
   "outputs": [
    {
     "name": "stdout",
     "output_type": "stream",
     "text": [
      "{'poly_ID': Series([], dtype: float64), 'poly_geometry': Series([], dtype: float64), 'total_evaporation': Series([], dtype: float64), 'precipitation': Series([], dtype: float64), 'temperature': Series([], dtype: float64), 'irr_water_demand': Series([], dtype: float64), 'conflict_t_min_1': Series([], dtype: bool), 'conflict_t_min_1_nb': Series([], dtype: float64)}\n",
      "\n",
      "INFO: reading data for period from 2010 to 2015\n",
      "DEBUG: determining matrix with neighboring polygons\n",
      "INFO: skipping first year 2010 to start up model\n",
      "INFO: entering year 2011\n",
      "DEBUG: getting the geometry of all geographical units\n",
      "DEBUG: calculating mean total_evaporation per aggregation unit from file C:\\Users\\hoch0001\\Documents\\_code\\copro\\example\\./example_data\\hydro/totalEvaporation_monthTot_output_2000_2015_Africa_yearmean.nc for year 2011\n",
      "WARNING: NaN computed!\n",
      "WARNING: NaN computed!\n",
      "WARNING: NaN computed!\n",
      "WARNING: NaN computed!\n",
      "WARNING: NaN computed!\n",
      "WARNING: NaN computed!\n",
      "WARNING: NaN computed!\n",
      "DEBUG: ... done.\n",
      "DEBUG: calculating log-transformed mean precipitation per aggregation unit from file C:\\Users\\hoch0001\\Documents\\_code\\copro\\example\\./example_data\\hydro/precipitation_monthTot_output_2000-01-31_to_2015-12-31_Africa_yearmean.nc for year 2011\n",
      "WARNING: NaN computed!\n",
      "WARNING: NaN computed!\n",
      "WARNING: NaN computed!\n",
      "WARNING: NaN computed!\n",
      "WARNING: NaN computed!\n",
      "WARNING: NaN computed!\n",
      "WARNING: NaN computed!\n",
      "DEBUG: ... done.\n",
      "DEBUG: calculating mean temperature per aggregation unit from file C:\\Users\\hoch0001\\Documents\\_code\\copro\\example\\./example_data\\hydro/temperature_monthAvg_output_2000-01-31_to_2015-12-31_Africa_yearmean.nc for year 2011\n",
      "WARNING: NaN computed!\n",
      "WARNING: NaN computed!\n",
      "WARNING: NaN computed!\n",
      "WARNING: NaN computed!\n",
      "WARNING: NaN computed!\n",
      "WARNING: NaN computed!\n",
      "WARNING: NaN computed!\n",
      "DEBUG: ... done.\n",
      "DEBUG: calculating mean irr_water_demand per aggregation unit from file C:\\Users\\hoch0001\\Documents\\_code\\copro\\example\\./example_data\\hydro/irrWaterDemand.nc for year 2011\n",
      "WARNING: NaN computed!\n",
      "WARNING: NaN computed!\n",
      "WARNING: NaN computed!\n",
      "WARNING: NaN computed!\n",
      "WARNING: NaN computed!\n",
      "WARNING: NaN computed!\n",
      "WARNING: NaN computed!\n",
      "DEBUG: ... done.\n"
     ]
    },
    {
     "ename": "AttributeError",
     "evalue": "'NoneType' object has no attribute 'loc'",
     "output_type": "error",
     "traceback": [
      "\u001b[1;31m---------------------------------------------------------------------------\u001b[0m",
      "\u001b[1;31mAttributeError\u001b[0m                            Traceback (most recent call last)",
      "\u001b[1;32m<ipython-input-7-4b574cea92f5>\u001b[0m in \u001b[0;36m<module>\u001b[1;34m\u001b[0m\n\u001b[1;32m----> 1\u001b[1;33m \u001b[0mX\u001b[0m \u001b[1;33m=\u001b[0m \u001b[0mpipeline\u001b[0m\u001b[1;33m.\u001b[0m\u001b[0mcreate_X\u001b[0m\u001b[1;33m(\u001b[0m\u001b[0mconfig\u001b[0m\u001b[1;33m,\u001b[0m \u001b[0mout_dir\u001b[0m\u001b[1;33m,\u001b[0m \u001b[0mroot_dir\u001b[0m\u001b[1;33m,\u001b[0m \u001b[0mselected_polygons_gdf\u001b[0m\u001b[1;33m)\u001b[0m\u001b[1;33m\u001b[0m\u001b[1;33m\u001b[0m\u001b[0m\n\u001b[0m",
      "\u001b[1;32mc:\\users\\hoch0001\\documents\\_code\\copro\\copro\\pipeline.py\u001b[0m in \u001b[0;36mcreate_X\u001b[1;34m(config, out_dir, root_dir, polygon_gdf, conflict_gdf)\u001b[0m\n\u001b[0;32m     61\u001b[0m         \u001b[0mX\u001b[0m \u001b[1;33m=\u001b[0m \u001b[0mdata\u001b[0m\u001b[1;33m.\u001b[0m\u001b[0minitiate_X_data\u001b[0m\u001b[1;33m(\u001b[0m\u001b[0mconfig\u001b[0m\u001b[1;33m)\u001b[0m\u001b[1;33m\u001b[0m\u001b[1;33m\u001b[0m\u001b[0m\n\u001b[0;32m     62\u001b[0m \u001b[1;33m\u001b[0m\u001b[0m\n\u001b[1;32m---> 63\u001b[1;33m         \u001b[0mX\u001b[0m \u001b[1;33m=\u001b[0m \u001b[0mdata\u001b[0m\u001b[1;33m.\u001b[0m\u001b[0mfill_XY\u001b[0m\u001b[1;33m(\u001b[0m\u001b[0mX\u001b[0m\u001b[1;33m,\u001b[0m \u001b[0mconfig\u001b[0m\u001b[1;33m,\u001b[0m \u001b[0mroot_dir\u001b[0m\u001b[1;33m,\u001b[0m \u001b[0mconflict_gdf\u001b[0m\u001b[1;33m,\u001b[0m \u001b[0mpolygon_gdf\u001b[0m\u001b[1;33m,\u001b[0m \u001b[0mout_dir\u001b[0m\u001b[1;33m)\u001b[0m\u001b[1;33m\u001b[0m\u001b[1;33m\u001b[0m\u001b[0m\n\u001b[0m\u001b[0;32m     64\u001b[0m \u001b[1;33m\u001b[0m\u001b[0m\n\u001b[0;32m     65\u001b[0m         \u001b[0mprint\u001b[0m\u001b[1;33m(\u001b[0m\u001b[1;34m'INFO: saving X data by default to file {}'\u001b[0m\u001b[1;33m.\u001b[0m\u001b[0mformat\u001b[0m\u001b[1;33m(\u001b[0m\u001b[0mos\u001b[0m\u001b[1;33m.\u001b[0m\u001b[0mpath\u001b[0m\u001b[1;33m.\u001b[0m\u001b[0mjoin\u001b[0m\u001b[1;33m(\u001b[0m\u001b[0mout_dir\u001b[0m\u001b[1;33m,\u001b[0m \u001b[1;34m'X.npy'\u001b[0m\u001b[1;33m)\u001b[0m\u001b[1;33m)\u001b[0m\u001b[1;33m)\u001b[0m\u001b[1;33m\u001b[0m\u001b[1;33m\u001b[0m\u001b[0m\n",
      "\u001b[1;32mc:\\users\\hoch0001\\documents\\_code\\copro\\copro\\data.py\u001b[0m in \u001b[0;36mfill_XY\u001b[1;34m(XY, config, root_dir, conflict_gdf, polygon_gdf, out_dir)\u001b[0m\n\u001b[0;32m    108\u001b[0m \u001b[1;33m\u001b[0m\u001b[0m\n\u001b[0;32m    109\u001b[0m                     \u001b[0mdata_series\u001b[0m \u001b[1;33m=\u001b[0m \u001b[0mvalue\u001b[0m\u001b[1;33m\u001b[0m\u001b[1;33m\u001b[0m\u001b[0m\n\u001b[1;32m--> 110\u001b[1;33m                     \u001b[0mdata_list\u001b[0m \u001b[1;33m=\u001b[0m \u001b[0mconflict\u001b[0m\u001b[1;33m.\u001b[0m\u001b[0mconflict_in_previous_year\u001b[0m\u001b[1;33m(\u001b[0m\u001b[0mconfig\u001b[0m\u001b[1;33m,\u001b[0m \u001b[0mconflict_gdf\u001b[0m\u001b[1;33m,\u001b[0m \u001b[0mpolygon_gdf\u001b[0m\u001b[1;33m,\u001b[0m \u001b[0msim_year\u001b[0m\u001b[1;33m)\u001b[0m\u001b[1;33m\u001b[0m\u001b[1;33m\u001b[0m\u001b[0m\n\u001b[0m\u001b[0;32m    111\u001b[0m                     \u001b[0mdata_series\u001b[0m \u001b[1;33m=\u001b[0m \u001b[0mdata_series\u001b[0m\u001b[1;33m.\u001b[0m\u001b[0mappend\u001b[0m\u001b[1;33m(\u001b[0m\u001b[0mpd\u001b[0m\u001b[1;33m.\u001b[0m\u001b[0mSeries\u001b[0m\u001b[1;33m(\u001b[0m\u001b[0mdata_list\u001b[0m\u001b[1;33m)\u001b[0m\u001b[1;33m,\u001b[0m \u001b[0mignore_index\u001b[0m\u001b[1;33m=\u001b[0m\u001b[1;32mTrue\u001b[0m\u001b[1;33m)\u001b[0m\u001b[1;33m\u001b[0m\u001b[1;33m\u001b[0m\u001b[0m\n\u001b[0;32m    112\u001b[0m                     \u001b[0mXY\u001b[0m\u001b[1;33m[\u001b[0m\u001b[0mkey\u001b[0m\u001b[1;33m]\u001b[0m \u001b[1;33m=\u001b[0m \u001b[0mdata_series\u001b[0m\u001b[1;33m\u001b[0m\u001b[1;33m\u001b[0m\u001b[0m\n",
      "\u001b[1;32mc:\\users\\hoch0001\\documents\\_code\\copro\\copro\\conflict.py\u001b[0m in \u001b[0;36mconflict_in_previous_year\u001b[1;34m(config, conflict_gdf, extent_gdf, sim_year, check_neighbors, neighboring_matrix)\u001b[0m\n\u001b[0;32m     80\u001b[0m \u001b[1;33m\u001b[0m\u001b[0m\n\u001b[0;32m     81\u001b[0m     \u001b[1;31m# get conflicts at t-1\u001b[0m\u001b[1;33m\u001b[0m\u001b[1;33m\u001b[0m\u001b[1;33m\u001b[0m\u001b[0m\n\u001b[1;32m---> 82\u001b[1;33m     \u001b[0mtemp_sel_year\u001b[0m \u001b[1;33m=\u001b[0m \u001b[0mconflict_gdf\u001b[0m\u001b[1;33m.\u001b[0m\u001b[0mloc\u001b[0m\u001b[1;33m[\u001b[0m\u001b[0mconflict_gdf\u001b[0m\u001b[1;33m.\u001b[0m\u001b[0myear\u001b[0m \u001b[1;33m==\u001b[0m \u001b[0msim_year\u001b[0m\u001b[1;33m-\u001b[0m\u001b[1;36m1\u001b[0m\u001b[1;33m]\u001b[0m\u001b[1;33m\u001b[0m\u001b[1;33m\u001b[0m\u001b[0m\n\u001b[0m\u001b[0;32m     83\u001b[0m \u001b[1;33m\u001b[0m\u001b[0m\n\u001b[0;32m     84\u001b[0m     \u001b[1;31m# merge the dataframes with polygons and conflict information, creating a sub-set of polygons/regions\u001b[0m\u001b[1;33m\u001b[0m\u001b[1;33m\u001b[0m\u001b[1;33m\u001b[0m\u001b[0m\n",
      "\u001b[1;31mAttributeError\u001b[0m: 'NoneType' object has no attribute 'loc'"
     ]
    }
   ],
   "source": [
    "X = pipeline.create_X(config, out_dir, root_dir, selected_polygons_gdf)"
   ]
  },
  {
   "cell_type": "markdown",
   "metadata": {},
   "source": [
    "## Project!"
   ]
  },
  {
   "cell_type": "markdown",
   "metadata": {},
   "source": [
    "Before we can make a projection, we need to first get the scaler for the samples matrix again. The pre-computed classifier (based on the reference run) is directly loaded from file as specified in the cfg-file."
   ]
  },
  {
   "cell_type": "code",
   "execution_count": null,
   "metadata": {},
   "outputs": [],
   "source": [
    "scaler, clf = pipeline.prepare_ML(config)"
   ]
  },
  {
   "cell_type": "markdown",
   "metadata": {},
   "source": [
    "With this all in place, we can use the X-array, the scaler, and the fitted classifier to make a projection whether conflict will take place in a polygon or not."
   ]
  },
  {
   "cell_type": "code",
   "execution_count": null,
   "metadata": {},
   "outputs": [],
   "source": [
    "y_df = pipeline.run_prediction(X, scaler, config, root_dir)"
   ]
  },
  {
   "cell_type": "markdown",
   "metadata": {},
   "source": [
    "All the previously used evaluation metrics are not applicable anymore, as there are no target values anymore. We can still look which chance of conflict is computed by the model."
   ]
  },
  {
   "cell_type": "code",
   "execution_count": null,
   "metadata": {},
   "outputs": [],
   "source": [
    "df_hit, gdf_hit = evaluation.polygon_model_accuracy(y_df, global_df, out_dir=None, make_proj=True)"
   ]
  },
  {
   "cell_type": "code",
   "execution_count": null,
   "metadata": {},
   "outputs": [],
   "source": [
    "ax = gdf_hit.plot(column='chance_of_conflict', legend=True, figsize=(20, 10), cmap='Blues', vmin=0, vmax=1,\n",
    "             legend_kwds={'label': \"chance of conflict\", 'orientation': \"vertical\"})\n",
    "selected_polygons_gdf.boundary.plot(ax=ax, color='0.5');"
   ]
  },
  {
   "cell_type": "markdown",
   "metadata": {},
   "source": [
    "Note that this plot may be different than a similar plot in the previous notebook. This is not unlikely as we use a different amount and different predictions in general here! For instance, we did not repeat the predictions multiple times, nor did we split the data points in training data and test data. Nevertheless, the pattern of projected conflict risk looks very sensible given the outcome of the reference plots."
   ]
  },
  {
   "cell_type": "code",
   "execution_count": null,
   "metadata": {},
   "outputs": [],
   "source": []
  }
 ],
 "metadata": {
  "kernelspec": {
   "display_name": "Python 3",
   "language": "python",
   "name": "python3"
  },
  "language_info": {
   "codemirror_mode": {
    "name": "ipython",
    "version": 3
   },
   "file_extension": ".py",
   "mimetype": "text/x-python",
   "name": "python",
   "nbconvert_exporter": "python",
   "pygments_lexer": "ipython3",
   "version": "3.7.8"
  }
 },
 "nbformat": 4,
 "nbformat_minor": 4
}
