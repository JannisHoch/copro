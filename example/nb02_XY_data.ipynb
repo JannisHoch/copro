{
 "cells": [
  {
   "cell_type": "markdown",
   "metadata": {},
   "source": [
    "# Samples matrix and target values\n",
    "\n",
    "In this notebook, we will show how CoPro reads the samples matrix and target values needed to establish a machine-learning model."
   ]
  },
  {
   "cell_type": "markdown",
   "metadata": {},
   "source": [
    "## Preparations\n",
    "\n",
    "Start with loading the required packages."
   ]
  },
  {
   "cell_type": "code",
   "execution_count": 1,
   "metadata": {},
   "outputs": [],
   "source": [
    "from copro import utils, pipeline\n",
    "\n",
    "%matplotlib inline\n",
    "\n",
    "import matplotlib.pyplot as plt\n",
    "import pandas as pd\n",
    "import geopandas as gpd\n",
    "import os, sys\n",
    "import warnings\n",
    "warnings.simplefilter(\"ignore\")"
   ]
  },
  {
   "cell_type": "markdown",
   "metadata": {},
   "source": [
    "For better reproducibility, the version numbers of all key packages are provided."
   ]
  },
  {
   "cell_type": "code",
   "execution_count": 2,
   "metadata": {},
   "outputs": [
    {
     "name": "stdout",
     "output_type": "stream",
     "text": [
      "Python version: 3.7.8 | packaged by conda-forge | (default, Jul 31 2020, 01:53:57) [MSC v.1916 64 bit (AMD64)]\n",
      "copro version: 0.0.7b\n",
      "geopandas version: 0.8.0\n",
      "xarray version: 0.15.1\n",
      "rasterio version: 1.1.0\n",
      "pandas version: 1.0.3\n",
      "numpy version: 1.18.1\n",
      "scikit-learn version: 0.23.2\n",
      "matplotlib version: 3.2.1\n",
      "seaborn version: 0.11.0\n",
      "rasterstats version: 0.14.0\n"
     ]
    }
   ],
   "source": [
    "utils.show_versions()"
   ]
  },
  {
   "cell_type": "markdown",
   "metadata": {},
   "source": [
    "To be able to also run this notebooks, some of the previously saved data needs to be loaded."
   ]
  },
  {
   "cell_type": "code",
   "execution_count": 3,
   "metadata": {},
   "outputs": [],
   "source": [
    "conflict_gdf = gpd.read_file('conflicts.shp')\n",
    "selected_polygons_gdf = gpd.read_file('polygons.shp')"
   ]
  },
  {
   "cell_type": "markdown",
   "metadata": {},
   "source": [
    "### The configurations-file (cfg-file)"
   ]
  },
  {
   "cell_type": "markdown",
   "metadata": {},
   "source": [
    "To be able to continue the simulation with the same settings as in the previous notebook, the cfg-file has to be read again and the model needs to be initialised subsequently."
   ]
  },
  {
   "cell_type": "code",
   "execution_count": 4,
   "metadata": {},
   "outputs": [],
   "source": [
    "settings_file = 'example_settings.cfg'"
   ]
  },
  {
   "cell_type": "code",
   "execution_count": 5,
   "metadata": {},
   "outputs": [
    {
     "name": "stdout",
     "output_type": "stream",
     "text": [
      "\n",
      "#### CoPro version 0.0.7b ####\n",
      "#### For information about the model, please visit https://copro.readthedocs.io/ ####\n",
      "#### Copyright (2020-2020): Jannis M. Hoch, Sophie de Bruin, Niko Wanders ####\n",
      "#### Contact via: j.m.hoch@uu.nl ####\n",
      "#### The model can be used and shared under the MIT license ####\n",
      "\n",
      "INFO: verbose mode on: False\n",
      "INFO: saving output to folder C:\\Users\\hoch0001\\Documents\\_code\\copro\\example\\./OUT\n"
     ]
    }
   ],
   "source": [
    "config, out_dir, root_dir = utils.initiate_setup(settings_file)"
   ]
  },
  {
   "cell_type": "markdown",
   "metadata": {},
   "source": [
    "## Read the files and store the data\n",
    "\n",
    "### Background\n",
    "\n",
    "This is an essential part of the code. For a machine-learning model to work, it requires a samples matrix (X), representing the 'drivers' of conflict, and target values (Y) representing the conflicts themselves. By fitting a machine-learning model, a relation between X and Y is established, which in turn can be used to make projections.\n",
    "\n",
    "Additional information can be found on [scikit-learn](https://scikit-learn.org/stable/getting_started.html#fitting-and-predicting-estimator-basics).\n",
    "\n",
    "Since CoPro simulates conflict risk not only globally, but also spatially explicit for provided polygons, it is furthermore needed to be able to associate each polygons with the corresponding data points in X and Y.\n",
    "\n",
    "### Implementation\n",
    "\n",
    "CoPro goes through all model years as specified in the cfg-file. Per year, CoPro loops over all polygons remaining after the selection procedure (see previous notebook) and does the following to obtain the X-data.\n",
    "\n",
    "1. Assing ID to polygon and retrieve geometry information;\n",
    "2. Calculate the mean value per polygon from each input file specified in the cfg-file in section 'data'.\n",
    "\n",
    "And to obtain the Y-data:\n",
    "\n",
    "1. Assign a Boolean value whether a conflict took place in a polygon or not - the number of casualties or conflicts per year is not relevant in thise case.\n",
    "\n",
    "This information is stored in a X-array and a Y-array. The X-array has 2+n columns whereby n denotes the number of samples provided. The Y-array has obviously only 1 column.\n",
    "In both arrays is the number of rows determined as number of years times the number of polygons. In case a row contains a missing value, the entire row is removed from the XY-array.\n",
    "\n",
    "Note that the sample values can still range a lot depending on their units, measurement, etc. In the next notebook, the X-data will be scaled to be able to compare the different values in the samples matrix."
   ]
  },
  {
   "cell_type": "markdown",
   "metadata": {},
   "source": [
    "Since we did not specify a pre-calculated npy-file in the cfg-file, the provided files are read per year."
   ]
  },
  {
   "cell_type": "code",
   "execution_count": 6,
   "metadata": {},
   "outputs": [
    {
     "data": {
      "text/plain": [
       "''"
      ]
     },
     "execution_count": 6,
     "metadata": {},
     "output_type": "execute_result"
    }
   ],
   "source": [
    "config.get('pre_calc', 'XY')"
   ]
  },
  {
   "cell_type": "code",
   "execution_count": 7,
   "metadata": {},
   "outputs": [
    {
     "name": "stdout",
     "output_type": "stream",
     "text": [
      "{'poly_ID': Series([], dtype: float64), 'poly_geometry': Series([], dtype: float64), 'total_evaporation': Series([], dtype: float64), 'precipitation': Series([], dtype: float64), 'temperature': Series([], dtype: float64), 'irr_water_demand': Series([], dtype: float64), 'conflict_t-1': Series([], dtype: bool), 'conflict': Series([], dtype: bool)}\n",
      "\n",
      "INFO: reading data for period from 2000 to 2015\n",
      "INFO: entering year 2000\n",
      "DEBUG: key poly_ID\n",
      "DEBUG: key poly_geometry\n",
      "DEBUG: key total_evaporation\n",
      "DEBUG: key precipitation\n",
      "DEBUG: key temperature\n",
      "DEBUG: key irr_water_demand\n",
      "DEBUG: key conflict_t-1\n",
      "YOOOOO: now computing conflict for t-1\n",
      "... it is the first year, so no conflict for previous year is known\n",
      "DEBUG: key conflict\n",
      "INFO: entering year 2001\n",
      "DEBUG: key poly_ID\n",
      "DEBUG: key poly_geometry\n",
      "DEBUG: key total_evaporation\n",
      "DEBUG: key precipitation\n",
      "DEBUG: key temperature\n",
      "DEBUG: key irr_water_demand\n",
      "DEBUG: key conflict_t-1\n",
      "YOOOOO: now computing conflict for t-1\n",
      "DEBUG: key conflict\n",
      "INFO: entering year 2002\n",
      "DEBUG: key poly_ID\n",
      "DEBUG: key poly_geometry\n",
      "DEBUG: key total_evaporation\n",
      "DEBUG: key precipitation\n",
      "DEBUG: key temperature\n",
      "DEBUG: key irr_water_demand\n",
      "DEBUG: key conflict_t-1\n",
      "YOOOOO: now computing conflict for t-1\n",
      "DEBUG: key conflict\n",
      "INFO: entering year 2003\n",
      "DEBUG: key poly_ID\n",
      "DEBUG: key poly_geometry\n",
      "DEBUG: key total_evaporation\n",
      "DEBUG: key precipitation\n",
      "DEBUG: key temperature\n",
      "DEBUG: key irr_water_demand\n",
      "DEBUG: key conflict_t-1\n",
      "YOOOOO: now computing conflict for t-1\n",
      "DEBUG: key conflict\n",
      "INFO: entering year 2004\n",
      "DEBUG: key poly_ID\n",
      "DEBUG: key poly_geometry\n",
      "DEBUG: key total_evaporation\n",
      "DEBUG: key precipitation\n",
      "DEBUG: key temperature\n",
      "DEBUG: key irr_water_demand\n",
      "DEBUG: key conflict_t-1\n",
      "YOOOOO: now computing conflict for t-1\n",
      "DEBUG: key conflict\n",
      "INFO: entering year 2005\n",
      "DEBUG: key poly_ID\n",
      "DEBUG: key poly_geometry\n",
      "DEBUG: key total_evaporation\n",
      "DEBUG: key precipitation\n",
      "DEBUG: key temperature\n",
      "DEBUG: key irr_water_demand\n",
      "DEBUG: key conflict_t-1\n",
      "YOOOOO: now computing conflict for t-1\n",
      "DEBUG: key conflict\n",
      "INFO: entering year 2006\n",
      "DEBUG: key poly_ID\n",
      "DEBUG: key poly_geometry\n",
      "DEBUG: key total_evaporation\n",
      "DEBUG: key precipitation\n",
      "DEBUG: key temperature\n",
      "DEBUG: key irr_water_demand\n",
      "DEBUG: key conflict_t-1\n",
      "YOOOOO: now computing conflict for t-1\n",
      "DEBUG: key conflict\n",
      "INFO: entering year 2007\n",
      "DEBUG: key poly_ID\n",
      "DEBUG: key poly_geometry\n",
      "DEBUG: key total_evaporation\n",
      "DEBUG: key precipitation\n",
      "DEBUG: key temperature\n",
      "DEBUG: key irr_water_demand\n",
      "DEBUG: key conflict_t-1\n",
      "YOOOOO: now computing conflict for t-1\n",
      "DEBUG: key conflict\n",
      "INFO: entering year 2008\n",
      "DEBUG: key poly_ID\n",
      "DEBUG: key poly_geometry\n",
      "DEBUG: key total_evaporation\n",
      "DEBUG: key precipitation\n",
      "DEBUG: key temperature\n",
      "DEBUG: key irr_water_demand\n",
      "DEBUG: key conflict_t-1\n",
      "YOOOOO: now computing conflict for t-1\n",
      "DEBUG: key conflict\n",
      "INFO: entering year 2009\n",
      "DEBUG: key poly_ID\n",
      "DEBUG: key poly_geometry\n",
      "DEBUG: key total_evaporation\n",
      "DEBUG: key precipitation\n",
      "DEBUG: key temperature\n",
      "DEBUG: key irr_water_demand\n",
      "DEBUG: key conflict_t-1\n",
      "YOOOOO: now computing conflict for t-1\n",
      "DEBUG: key conflict\n",
      "INFO: entering year 2010\n",
      "DEBUG: key poly_ID\n",
      "DEBUG: key poly_geometry\n",
      "DEBUG: key total_evaporation\n",
      "DEBUG: key precipitation\n",
      "DEBUG: key temperature\n",
      "DEBUG: key irr_water_demand\n",
      "DEBUG: key conflict_t-1\n",
      "YOOOOO: now computing conflict for t-1\n",
      "DEBUG: key conflict\n",
      "INFO: entering year 2011\n",
      "DEBUG: key poly_ID\n",
      "DEBUG: key poly_geometry\n",
      "DEBUG: key total_evaporation\n",
      "DEBUG: key precipitation\n",
      "DEBUG: key temperature\n",
      "DEBUG: key irr_water_demand\n",
      "DEBUG: key conflict_t-1\n",
      "YOOOOO: now computing conflict for t-1\n",
      "DEBUG: key conflict\n",
      "INFO: entering year 2012\n",
      "DEBUG: key poly_ID\n",
      "DEBUG: key poly_geometry\n",
      "DEBUG: key total_evaporation\n",
      "DEBUG: key precipitation\n",
      "DEBUG: key temperature\n",
      "DEBUG: key irr_water_demand\n",
      "DEBUG: key conflict_t-1\n",
      "YOOOOO: now computing conflict for t-1\n",
      "DEBUG: key conflict\n",
      "INFO: entering year 2013\n",
      "DEBUG: key poly_ID\n",
      "DEBUG: key poly_geometry\n",
      "DEBUG: key total_evaporation\n",
      "DEBUG: key precipitation\n",
      "DEBUG: key temperature\n",
      "DEBUG: key irr_water_demand\n",
      "DEBUG: key conflict_t-1\n",
      "YOOOOO: now computing conflict for t-1\n",
      "DEBUG: key conflict\n",
      "INFO: entering year 2014\n",
      "DEBUG: key poly_ID\n",
      "DEBUG: key poly_geometry\n",
      "DEBUG: key total_evaporation\n",
      "DEBUG: key precipitation\n",
      "DEBUG: key temperature\n",
      "DEBUG: key irr_water_demand\n",
      "DEBUG: key conflict_t-1\n",
      "YOOOOO: now computing conflict for t-1\n",
      "DEBUG: key conflict\n",
      "INFO: entering year 2015\n",
      "DEBUG: key poly_ID\n",
      "DEBUG: key poly_geometry\n",
      "DEBUG: key total_evaporation\n",
      "DEBUG: key precipitation\n",
      "DEBUG: key temperature\n",
      "DEBUG: key irr_water_demand\n",
      "DEBUG: key conflict_t-1\n",
      "YOOOOO: now computing conflict for t-1\n",
      "DEBUG: key conflict\n",
      "INFO: all data read\n",
      "INFO: saving XY data by default to file C:\\Users\\hoch0001\\Documents\\_code\\copro\\example\\./OUT\\XY.npy\n"
     ]
    }
   ],
   "source": [
    "X, Y = pipeline.create_XY(config, out_dir, root_dir, selected_polygons_gdf, conflict_gdf)"
   ]
  },
  {
   "cell_type": "markdown",
   "metadata": {},
   "source": [
    "Depending on sample and file size, obtaining the X-array and Y-array can be time-consuming. Therefore, CoPro automatically stores a combined XY-array as npy-file if not specified otherwise in the cfg-file."
   ]
  },
  {
   "cell_type": "code",
   "execution_count": 8,
   "metadata": {},
   "outputs": [
    {
     "data": {
      "text/plain": [
       "True"
      ]
     },
     "execution_count": 8,
     "metadata": {},
     "output_type": "execute_result"
    }
   ],
   "source": [
    "os.path.isfile(os.path.join(os.path.abspath(config.get('general', 'output_dir')), 'XY.npy'))"
   ]
  },
  {
   "cell_type": "code",
   "execution_count": null,
   "metadata": {},
   "outputs": [],
   "source": []
  }
 ],
 "metadata": {
  "kernelspec": {
   "display_name": "Python 3",
   "language": "python",
   "name": "python3"
  },
  "language_info": {
   "codemirror_mode": {
    "name": "ipython",
    "version": 3
   },
   "file_extension": ".py",
   "mimetype": "text/x-python",
   "name": "python",
   "nbconvert_exporter": "python",
   "pygments_lexer": "ipython3",
   "version": "3.7.8"
  }
 },
 "nbformat": 4,
 "nbformat_minor": 4
}
