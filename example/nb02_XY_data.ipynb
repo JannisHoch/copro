{
 "cells": [
  {
   "cell_type": "markdown",
   "metadata": {},
   "source": [
    "# Variable values and conflict data\n",
    "\n",
    "## Preparations"
   ]
  },
  {
   "cell_type": "code",
   "execution_count": 1,
   "metadata": {},
   "outputs": [],
   "source": [
    "from copro import utils, pipeline\n",
    "\n",
    "import matplotlib.pyplot as plt\n",
    "import pandas as pd\n",
    "import geopandas as gpd\n",
    "import os, sys\n",
    "import warnings\n",
    "warnings.simplefilter(\"ignore\")"
   ]
  },
  {
   "cell_type": "markdown",
   "metadata": {},
   "source": [
    "For better reproducibility, the version numbers of all key packages are provided."
   ]
  },
  {
   "cell_type": "code",
   "execution_count": 2,
   "metadata": {},
   "outputs": [
    {
     "name": "stdout",
     "output_type": "stream",
     "text": [
      "Python version: 3.7.8 | packaged by conda-forge | (default, Jul 31 2020, 01:53:57) [MSC v.1916 64 bit (AMD64)]\n",
      "copro version: 0.0.6b\n",
      "geopandas version: 0.8.0\n",
      "xarray version: 0.15.1\n",
      "rasterio version: 1.1.0\n",
      "pandas version: 1.0.3\n",
      "numpy version: 1.18.1\n",
      "scikit-learn version: 0.23.2\n",
      "matplotlib version: 3.2.1\n",
      "seaborn version: 0.11.0\n",
      "rasterstats version: 0.14.0\n"
     ]
    }
   ],
   "source": [
    "utils.show_versions()"
   ]
  },
  {
   "cell_type": "markdown",
   "metadata": {},
   "source": [
    "In the cfg-file, all the settings for the analysis are defined. By 'parsing' (i.e. reading) it, all settings and file paths are known to the model. This is a simple way to make the code independent of the input data and settings."
   ]
  },
  {
   "cell_type": "code",
   "execution_count": 3,
   "metadata": {},
   "outputs": [],
   "source": [
    "settings_file = 'example_settings.cfg'"
   ]
  },
  {
   "cell_type": "markdown",
   "metadata": {},
   "source": [
    "Based on this cfg-file, the set-up of the run can be initialized. One part of the cfg-file is the specification and creation of an output folder."
   ]
  },
  {
   "cell_type": "code",
   "execution_count": 4,
   "metadata": {},
   "outputs": [
    {
     "name": "stdout",
     "output_type": "stream",
     "text": [
      "saving output to folder C:\\Users\\hoch0001\\Documents\\_code\\copro\\example\\OUT\n",
      "\n",
      "no conflict file was specified, hence downloading data from http://ucdp.uu.se/downloads/ged/ged201-csv.zip to C:\\Users\\hoch0001\\Documents\\_code\\copro\\example\\example_data\\UCDP\\ged201-csv.zip\r\n",
      "\n"
     ]
    }
   ],
   "source": [
    "config, out_dir = utils.initiate_setup(settings_file)"
   ]
  },
  {
   "cell_type": "markdown",
   "metadata": {},
   "source": [
    "So be able to continue from the previous notebook, some output has to be read in again."
   ]
  },
  {
   "cell_type": "code",
   "execution_count": 5,
   "metadata": {},
   "outputs": [],
   "source": [
    "conflict_gdf = gpd.read_file(os.path.join(out_dir, 'selected_conflicts.shp'))\n",
    "selected_polygons_gdf = gpd.read_file(os.path.join(out_dir, 'selected_polygons.shp'))"
   ]
  },
  {
   "cell_type": "markdown",
   "metadata": {},
   "source": [
    "## Read the files and store the data\n",
    "\n",
    "This is an essential part of the code. Here, we go through all model years as specified in the cfg-file and do the following:\n",
    "\n",
    "1. Get a 0/1 classifier whether a conflict took place in a geographical unit (here water province) or not;\n",
    "2. Loop through various files with climate or environmental variables, and get mean variable value per geographical unit (here water province).\n",
    "\n",
    "This information is stored in a XY-array with then is split in two different arrays. The X-array represents all climate/environmental variable values per polygon per year, while the Y-array represents the binary classifier whether conflict took place or not. In case some variables did contain no data for a given water province, this data points is dropped entirely."
   ]
  },
  {
   "cell_type": "markdown",
   "metadata": {},
   "source": [
    "Since we did not specify a npy-file in the cfg-file, the provided files are read."
   ]
  },
  {
   "cell_type": "code",
   "execution_count": 6,
   "metadata": {},
   "outputs": [
    {
     "data": {
      "text/plain": [
       "''"
      ]
     },
     "execution_count": 6,
     "metadata": {},
     "output_type": "execute_result"
    }
   ],
   "source": [
    "config.get('pre_calc', 'XY')"
   ]
  },
  {
   "cell_type": "markdown",
   "metadata": {},
   "source": [
    "Now let's get to it:"
   ]
  },
  {
   "cell_type": "code",
   "execution_count": 7,
   "metadata": {},
   "outputs": [
    {
     "name": "stdout",
     "output_type": "stream",
     "text": [
      "{'poly_ID': Series([], dtype: float64), 'poly_geometry': Series([], dtype: float64), 'total_evaporation': Series([], dtype: float64), 'precipitation': Series([], dtype: float64), 'temperature': Series([], dtype: float64), 'irr_water_demand': Series([], dtype: float64), 'conflict': Series([], dtype: int32)}\n",
      "\n",
      "INFO: reference run\n",
      "reading data for period from 2000 to 2015\n",
      "\n",
      "\n",
      "entering year 2000\n",
      "\n",
      "listing the geometry of all geographical units\n",
      "calculating mean total_evaporation per aggregation unit from file C:\\Users\\hoch0001\\Documents\\_code\\copro\\example\\example_data\\totalEvaporation_monthTot_output_2000_2015_Africa_yearmean.nc for year 2000\n",
      "calculating mean precipitation per aggregation unit from file C:\\Users\\hoch0001\\Documents\\_code\\copro\\example\\example_data\\precipitation_monthTot_output_2000-01-31_to_2015-12-31_Africa_yearmean.nc for year 2000\n",
      "calculating mean temperature per aggregation unit from file C:\\Users\\hoch0001\\Documents\\_code\\copro\\example\\example_data\\temperature_monthAvg_output_2000-01-31_to_2015-12-31_Africa_yearmean.nc for year 2000\n",
      "calculating mean irr_water_demand per aggregation unit from file C:\\Users\\hoch0001\\Documents\\_code\\copro\\example\\example_data\\irrWaterDemand.nc for year 2000\n",
      "\n",
      "entering year 2001\n",
      "\n",
      "listing the geometry of all geographical units\n",
      "calculating mean total_evaporation per aggregation unit from file C:\\Users\\hoch0001\\Documents\\_code\\copro\\example\\example_data\\totalEvaporation_monthTot_output_2000_2015_Africa_yearmean.nc for year 2001\n",
      "calculating mean precipitation per aggregation unit from file C:\\Users\\hoch0001\\Documents\\_code\\copro\\example\\example_data\\precipitation_monthTot_output_2000-01-31_to_2015-12-31_Africa_yearmean.nc for year 2001\n",
      "calculating mean temperature per aggregation unit from file C:\\Users\\hoch0001\\Documents\\_code\\copro\\example\\example_data\\temperature_monthAvg_output_2000-01-31_to_2015-12-31_Africa_yearmean.nc for year 2001\n",
      "calculating mean irr_water_demand per aggregation unit from file C:\\Users\\hoch0001\\Documents\\_code\\copro\\example\\example_data\\irrWaterDemand.nc for year 2001\n",
      "\n",
      "entering year 2002\n",
      "\n",
      "listing the geometry of all geographical units\n",
      "calculating mean total_evaporation per aggregation unit from file C:\\Users\\hoch0001\\Documents\\_code\\copro\\example\\example_data\\totalEvaporation_monthTot_output_2000_2015_Africa_yearmean.nc for year 2002\n",
      "calculating mean precipitation per aggregation unit from file C:\\Users\\hoch0001\\Documents\\_code\\copro\\example\\example_data\\precipitation_monthTot_output_2000-01-31_to_2015-12-31_Africa_yearmean.nc for year 2002\n",
      "calculating mean temperature per aggregation unit from file C:\\Users\\hoch0001\\Documents\\_code\\copro\\example\\example_data\\temperature_monthAvg_output_2000-01-31_to_2015-12-31_Africa_yearmean.nc for year 2002\n",
      "calculating mean irr_water_demand per aggregation unit from file C:\\Users\\hoch0001\\Documents\\_code\\copro\\example\\example_data\\irrWaterDemand.nc for year 2002\n",
      "\n",
      "entering year 2003\n",
      "\n",
      "listing the geometry of all geographical units\n",
      "calculating mean total_evaporation per aggregation unit from file C:\\Users\\hoch0001\\Documents\\_code\\copro\\example\\example_data\\totalEvaporation_monthTot_output_2000_2015_Africa_yearmean.nc for year 2003\n",
      "calculating mean precipitation per aggregation unit from file C:\\Users\\hoch0001\\Documents\\_code\\copro\\example\\example_data\\precipitation_monthTot_output_2000-01-31_to_2015-12-31_Africa_yearmean.nc for year 2003\n",
      "calculating mean temperature per aggregation unit from file C:\\Users\\hoch0001\\Documents\\_code\\copro\\example\\example_data\\temperature_monthAvg_output_2000-01-31_to_2015-12-31_Africa_yearmean.nc for year 2003\n",
      "calculating mean irr_water_demand per aggregation unit from file C:\\Users\\hoch0001\\Documents\\_code\\copro\\example\\example_data\\irrWaterDemand.nc for year 2003\n",
      "\n",
      "entering year 2004\n",
      "\n",
      "listing the geometry of all geographical units\n",
      "calculating mean total_evaporation per aggregation unit from file C:\\Users\\hoch0001\\Documents\\_code\\copro\\example\\example_data\\totalEvaporation_monthTot_output_2000_2015_Africa_yearmean.nc for year 2004\n",
      "calculating mean precipitation per aggregation unit from file C:\\Users\\hoch0001\\Documents\\_code\\copro\\example\\example_data\\precipitation_monthTot_output_2000-01-31_to_2015-12-31_Africa_yearmean.nc for year 2004\n",
      "calculating mean temperature per aggregation unit from file C:\\Users\\hoch0001\\Documents\\_code\\copro\\example\\example_data\\temperature_monthAvg_output_2000-01-31_to_2015-12-31_Africa_yearmean.nc for year 2004\n",
      "calculating mean irr_water_demand per aggregation unit from file C:\\Users\\hoch0001\\Documents\\_code\\copro\\example\\example_data\\irrWaterDemand.nc for year 2004\n",
      "\n",
      "entering year 2005\n",
      "\n",
      "listing the geometry of all geographical units\n",
      "calculating mean total_evaporation per aggregation unit from file C:\\Users\\hoch0001\\Documents\\_code\\copro\\example\\example_data\\totalEvaporation_monthTot_output_2000_2015_Africa_yearmean.nc for year 2005\n",
      "calculating mean precipitation per aggregation unit from file C:\\Users\\hoch0001\\Documents\\_code\\copro\\example\\example_data\\precipitation_monthTot_output_2000-01-31_to_2015-12-31_Africa_yearmean.nc for year 2005\n",
      "calculating mean temperature per aggregation unit from file C:\\Users\\hoch0001\\Documents\\_code\\copro\\example\\example_data\\temperature_monthAvg_output_2000-01-31_to_2015-12-31_Africa_yearmean.nc for year 2005\n",
      "calculating mean irr_water_demand per aggregation unit from file C:\\Users\\hoch0001\\Documents\\_code\\copro\\example\\example_data\\irrWaterDemand.nc for year 2005\n",
      "\n",
      "entering year 2006\n",
      "\n",
      "listing the geometry of all geographical units\n",
      "calculating mean total_evaporation per aggregation unit from file C:\\Users\\hoch0001\\Documents\\_code\\copro\\example\\example_data\\totalEvaporation_monthTot_output_2000_2015_Africa_yearmean.nc for year 2006\n",
      "calculating mean precipitation per aggregation unit from file C:\\Users\\hoch0001\\Documents\\_code\\copro\\example\\example_data\\precipitation_monthTot_output_2000-01-31_to_2015-12-31_Africa_yearmean.nc for year 2006\n",
      "calculating mean temperature per aggregation unit from file C:\\Users\\hoch0001\\Documents\\_code\\copro\\example\\example_data\\temperature_monthAvg_output_2000-01-31_to_2015-12-31_Africa_yearmean.nc for year 2006\n",
      "calculating mean irr_water_demand per aggregation unit from file C:\\Users\\hoch0001\\Documents\\_code\\copro\\example\\example_data\\irrWaterDemand.nc for year 2006\n",
      "\n",
      "entering year 2007\n",
      "\n",
      "listing the geometry of all geographical units\n",
      "calculating mean total_evaporation per aggregation unit from file C:\\Users\\hoch0001\\Documents\\_code\\copro\\example\\example_data\\totalEvaporation_monthTot_output_2000_2015_Africa_yearmean.nc for year 2007\n",
      "calculating mean precipitation per aggregation unit from file C:\\Users\\hoch0001\\Documents\\_code\\copro\\example\\example_data\\precipitation_monthTot_output_2000-01-31_to_2015-12-31_Africa_yearmean.nc for year 2007\n",
      "calculating mean temperature per aggregation unit from file C:\\Users\\hoch0001\\Documents\\_code\\copro\\example\\example_data\\temperature_monthAvg_output_2000-01-31_to_2015-12-31_Africa_yearmean.nc for year 2007\n",
      "calculating mean irr_water_demand per aggregation unit from file C:\\Users\\hoch0001\\Documents\\_code\\copro\\example\\example_data\\irrWaterDemand.nc for year 2007\n",
      "\n",
      "entering year 2008\n",
      "\n",
      "listing the geometry of all geographical units\n",
      "calculating mean total_evaporation per aggregation unit from file C:\\Users\\hoch0001\\Documents\\_code\\copro\\example\\example_data\\totalEvaporation_monthTot_output_2000_2015_Africa_yearmean.nc for year 2008\n",
      "calculating mean precipitation per aggregation unit from file C:\\Users\\hoch0001\\Documents\\_code\\copro\\example\\example_data\\precipitation_monthTot_output_2000-01-31_to_2015-12-31_Africa_yearmean.nc for year 2008\n",
      "calculating mean temperature per aggregation unit from file C:\\Users\\hoch0001\\Documents\\_code\\copro\\example\\example_data\\temperature_monthAvg_output_2000-01-31_to_2015-12-31_Africa_yearmean.nc for year 2008\n",
      "calculating mean irr_water_demand per aggregation unit from file C:\\Users\\hoch0001\\Documents\\_code\\copro\\example\\example_data\\irrWaterDemand.nc for year 2008\n",
      "\n",
      "entering year 2009\n",
      "\n",
      "listing the geometry of all geographical units\n",
      "calculating mean total_evaporation per aggregation unit from file C:\\Users\\hoch0001\\Documents\\_code\\copro\\example\\example_data\\totalEvaporation_monthTot_output_2000_2015_Africa_yearmean.nc for year 2009\n"
     ]
    },
    {
     "name": "stdout",
     "output_type": "stream",
     "text": [
      "calculating mean precipitation per aggregation unit from file C:\\Users\\hoch0001\\Documents\\_code\\copro\\example\\example_data\\precipitation_monthTot_output_2000-01-31_to_2015-12-31_Africa_yearmean.nc for year 2009\n",
      "calculating mean temperature per aggregation unit from file C:\\Users\\hoch0001\\Documents\\_code\\copro\\example\\example_data\\temperature_monthAvg_output_2000-01-31_to_2015-12-31_Africa_yearmean.nc for year 2009\n",
      "calculating mean irr_water_demand per aggregation unit from file C:\\Users\\hoch0001\\Documents\\_code\\copro\\example\\example_data\\irrWaterDemand.nc for year 2009\n",
      "\n",
      "entering year 2010\n",
      "\n",
      "listing the geometry of all geographical units\n",
      "calculating mean total_evaporation per aggregation unit from file C:\\Users\\hoch0001\\Documents\\_code\\copro\\example\\example_data\\totalEvaporation_monthTot_output_2000_2015_Africa_yearmean.nc for year 2010\n",
      "calculating mean precipitation per aggregation unit from file C:\\Users\\hoch0001\\Documents\\_code\\copro\\example\\example_data\\precipitation_monthTot_output_2000-01-31_to_2015-12-31_Africa_yearmean.nc for year 2010\n",
      "calculating mean temperature per aggregation unit from file C:\\Users\\hoch0001\\Documents\\_code\\copro\\example\\example_data\\temperature_monthAvg_output_2000-01-31_to_2015-12-31_Africa_yearmean.nc for year 2010\n",
      "calculating mean irr_water_demand per aggregation unit from file C:\\Users\\hoch0001\\Documents\\_code\\copro\\example\\example_data\\irrWaterDemand.nc for year 2010\n",
      "\n",
      "entering year 2011\n",
      "\n",
      "listing the geometry of all geographical units\n",
      "calculating mean total_evaporation per aggregation unit from file C:\\Users\\hoch0001\\Documents\\_code\\copro\\example\\example_data\\totalEvaporation_monthTot_output_2000_2015_Africa_yearmean.nc for year 2011\n",
      "calculating mean precipitation per aggregation unit from file C:\\Users\\hoch0001\\Documents\\_code\\copro\\example\\example_data\\precipitation_monthTot_output_2000-01-31_to_2015-12-31_Africa_yearmean.nc for year 2011\n",
      "calculating mean temperature per aggregation unit from file C:\\Users\\hoch0001\\Documents\\_code\\copro\\example\\example_data\\temperature_monthAvg_output_2000-01-31_to_2015-12-31_Africa_yearmean.nc for year 2011\n",
      "calculating mean irr_water_demand per aggregation unit from file C:\\Users\\hoch0001\\Documents\\_code\\copro\\example\\example_data\\irrWaterDemand.nc for year 2011\n",
      "\n",
      "entering year 2012\n",
      "\n",
      "listing the geometry of all geographical units\n",
      "calculating mean total_evaporation per aggregation unit from file C:\\Users\\hoch0001\\Documents\\_code\\copro\\example\\example_data\\totalEvaporation_monthTot_output_2000_2015_Africa_yearmean.nc for year 2012\n",
      "calculating mean precipitation per aggregation unit from file C:\\Users\\hoch0001\\Documents\\_code\\copro\\example\\example_data\\precipitation_monthTot_output_2000-01-31_to_2015-12-31_Africa_yearmean.nc for year 2012\n",
      "calculating mean temperature per aggregation unit from file C:\\Users\\hoch0001\\Documents\\_code\\copro\\example\\example_data\\temperature_monthAvg_output_2000-01-31_to_2015-12-31_Africa_yearmean.nc for year 2012\n",
      "calculating mean irr_water_demand per aggregation unit from file C:\\Users\\hoch0001\\Documents\\_code\\copro\\example\\example_data\\irrWaterDemand.nc for year 2012\n",
      "\n",
      "entering year 2013\n",
      "\n",
      "listing the geometry of all geographical units\n",
      "calculating mean total_evaporation per aggregation unit from file C:\\Users\\hoch0001\\Documents\\_code\\copro\\example\\example_data\\totalEvaporation_monthTot_output_2000_2015_Africa_yearmean.nc for year 2013\n",
      "calculating mean precipitation per aggregation unit from file C:\\Users\\hoch0001\\Documents\\_code\\copro\\example\\example_data\\precipitation_monthTot_output_2000-01-31_to_2015-12-31_Africa_yearmean.nc for year 2013\n",
      "calculating mean temperature per aggregation unit from file C:\\Users\\hoch0001\\Documents\\_code\\copro\\example\\example_data\\temperature_monthAvg_output_2000-01-31_to_2015-12-31_Africa_yearmean.nc for year 2013\n",
      "calculating mean irr_water_demand per aggregation unit from file C:\\Users\\hoch0001\\Documents\\_code\\copro\\example\\example_data\\irrWaterDemand.nc for year 2013\n",
      "\n",
      "entering year 2014\n",
      "\n",
      "listing the geometry of all geographical units\n",
      "calculating mean total_evaporation per aggregation unit from file C:\\Users\\hoch0001\\Documents\\_code\\copro\\example\\example_data\\totalEvaporation_monthTot_output_2000_2015_Africa_yearmean.nc for year 2014\n",
      "calculating mean precipitation per aggregation unit from file C:\\Users\\hoch0001\\Documents\\_code\\copro\\example\\example_data\\precipitation_monthTot_output_2000-01-31_to_2015-12-31_Africa_yearmean.nc for year 2014\n",
      "calculating mean temperature per aggregation unit from file C:\\Users\\hoch0001\\Documents\\_code\\copro\\example\\example_data\\temperature_monthAvg_output_2000-01-31_to_2015-12-31_Africa_yearmean.nc for year 2014\n",
      "calculating mean irr_water_demand per aggregation unit from file C:\\Users\\hoch0001\\Documents\\_code\\copro\\example\\example_data\\irrWaterDemand.nc for year 2014\n",
      "\n",
      "entering year 2015\n",
      "\n",
      "listing the geometry of all geographical units\n",
      "calculating mean total_evaporation per aggregation unit from file C:\\Users\\hoch0001\\Documents\\_code\\copro\\example\\example_data\\totalEvaporation_monthTot_output_2000_2015_Africa_yearmean.nc for year 2015\n",
      "calculating mean precipitation per aggregation unit from file C:\\Users\\hoch0001\\Documents\\_code\\copro\\example\\example_data\\precipitation_monthTot_output_2000-01-31_to_2015-12-31_Africa_yearmean.nc for year 2015\n",
      "calculating mean temperature per aggregation unit from file C:\\Users\\hoch0001\\Documents\\_code\\copro\\example\\example_data\\temperature_monthAvg_output_2000-01-31_to_2015-12-31_Africa_yearmean.nc for year 2015\n",
      "calculating mean irr_water_demand per aggregation unit from file C:\\Users\\hoch0001\\Documents\\_code\\copro\\example\\example_data\\irrWaterDemand.nc for year 2015\n",
      "...reading data DONE\n",
      "\n",
      "saving XY data by default to file C:\\Users\\hoch0001\\Documents\\_code\\copro\\example\\example_data\\XY.npy\n",
      "\n",
      "number of data points including missing values: 4384\n",
      "number of data points excluding missing values: 4272\n",
      "from this, 681 points are equal to 1, i.e. represent conflict occurence. This is a fraction of 15.94 percent.\n"
     ]
    }
   ],
   "source": [
    "X, Y = pipeline.create_XY(config, selected_polygons_gdf, conflict_gdf)"
   ]
  },
  {
   "cell_type": "markdown",
   "metadata": {},
   "source": [
    "At the end of this function, the resulting XY-array (i.e. before splitting to make it easier) is by default stored to the input directory. This is handy because we now do not need to repeat the file reading and data storing anymore. At least as long as the settings do not change!"
   ]
  },
  {
   "cell_type": "code",
   "execution_count": 8,
   "metadata": {},
   "outputs": [
    {
     "data": {
      "text/plain": [
       "True"
      ]
     },
     "execution_count": 8,
     "metadata": {},
     "output_type": "execute_result"
    }
   ],
   "source": [
    "os.path.isfile(os.path.join(os.path.abspath(config.get('general', 'input_dir')), 'XY.npy'))"
   ]
  }
 ],
 "metadata": {
  "kernelspec": {
   "display_name": "Python 3",
   "language": "python",
   "name": "python3"
  },
  "language_info": {
   "codemirror_mode": {
    "name": "ipython",
    "version": 3
   },
   "file_extension": ".py",
   "mimetype": "text/x-python",
   "name": "python",
   "nbconvert_exporter": "python",
   "pygments_lexer": "ipython3",
   "version": "3.7.8"
  }
 },
 "nbformat": 4,
 "nbformat_minor": 4
}
